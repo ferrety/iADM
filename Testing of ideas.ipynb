{
 "cells": [
  {
   "cell_type": "markdown",
   "metadata": {},
   "source": [
    "$P$ is a priority set of objective functions, $p$ is probablity that the objective is added to $P$, $f_{rank} \\in (0,1]$\n",
    "\n",
    "### First Iteration\n",
    "\n",
    "1. For each objective function $f_k \\in P$:\n",
    "    0. if $aspir_k$ is not set then $ref_n=icv_k$ \n",
    "    0. elif $rand$ < $p \\cdot f_{rank}$ Set $ref_n=aspir_k$\n",
    "2. set $iter=0$\n",
    "\n",
    "### Following iterations\n",
    "1. Set $p_p = p$\n",
    "2. $iter$++\n",
    "3. For each objective function $f_k$ ordered by priority:\n",
    "    0. if $f_k(x)$ difference to $aspir$ is less than $tol$, add $f_k$ to set $P$ if $rand < p$.\n",
    "    1. if difference to $aspir$ is greater than $tol$, add $f_k$ to set $P$ if $rand \\cdot f_{rank} < p_p$.\n",
    "       0. decrease $p_p$\n",
    "3. If $p_p = p$ **STOP**\n",
    "4. For each objective function $f_k \\in P$:\n",
    "    0. if $aspir_k$ is not set then $ref_n=icv_k$ \n",
    "    0. elif $rand$ < $p \\cdot f_{rank}$ Set $ref_n=aspir_k-(aspir_k-f_k(x))/2$\n",
    "5. For each objective function $f_k \\not \\in P$:\n",
    "    0. set $ref_n = nadir_k$\n",
    "6. if $iter \\lt iter_{stop}$ *goto* step 2.\n",
    "\"\"\")"
   ]
  },
  {
   "cell_type": "markdown",
   "metadata": {
    "collapsed": true
   },
   "source": [
    "# Reference point NSGAII"
   ]
  },
  {
   "cell_type": "code",
   "execution_count": null,
   "metadata": {
    "collapsed": false
   },
   "outputs": [],
   "source": [
    "from scipy import spatial\n",
    "from scipy.optimize import differential_evolution\n",
    "import numpy as np\n",
    "import pyMOEA\n",
    "\n",
    "def rNSGAII_solution(problem,refpoint,evals=10000,nf=3):\n",
    "    points=pyMOEA.solve(pyMOEA.problem_def(problem,nf),refpoint=refpoint,evals=evals)\n",
    "    A=np.array(points)\n",
    "    return A[spatial.KDTree(A).query(refpoint)[1]]\n",
    "\n",
    "def ACH(x,problem,ref,rho=0.001):\n",
    "    f=pyMOEA.evaluate(problem,x)\n",
    "    nadir=[1.0]*len(ref)\n",
    "    utopian=[0.0]*len(ref)\n",
    "    A=np.array([f,ref,nadir,utopian])    \n",
    "    return np.max(np.apply_along_axis(lambda x:(x[0]-x[1])/(x[2]-x[3]),0,A)) \\\n",
    "                 +rho*np.sum(np.apply_along_axis(lambda x:x[0]/(x[2]-x[3]),0,A))\n",
    "               \n",
    "def ACH_solution(problem_name,refpoint,evals=10000,nf=3):\n",
    "    problem=pyMOEA.problem(problem_name,nf)\n",
    "    bounds=pyMOEA.bounds(problem)\n",
    "    res=differential_evolution(ACH,bounds,args=(problem,[0.2,0.2,0.2]),maxiter=evals)\n",
    "    return pyMOEA.evaluate(problem,res.x)\n",
    "                               \n",
    "\n",
    "def make_run(problem,ref,nf=3,runs=10):\n",
    "    nsgaii=[]\n",
    "    ach=[]\n",
    "    best=[0,0]\n",
    "    for f in range(runs):\n",
    "        nsgaii.append(rNSGAII_solution(problem,ref))\n",
    "        nd=spatial.distance.euclidean(ref,nsgaii[-1])\n",
    "    \n",
    "        ach.append(ACH_solution(problem,ref))\n",
    "        ad=spatial.distance.euclidean(ref,ach[-1])\n",
    "    \n",
    "        if ad<nd:\n",
    "            best[0]+=1\n",
    "        \n",
    "        else:\n",
    "            best[1]+=1\n",
    "        \n",
    "    if best[0]>best[1]:\n",
    "        print \"ACH\"\n",
    "    else:\n",
    "        preint \"rNSGAII\"\n",
    "    return (best,ach,nsgaii)"
   ]
  },
  {
   "cell_type": "code",
   "execution_count": null,
   "metadata": {
    "collapsed": false
   },
   "outputs": [],
   "source": [
    "ref=[0.2,0.2,0.2]\n",
    "res=[]\n",
    "for i,obj in enumerate([\"Two\",\"Three\",\"Four\"]):\n",
    "    print \"%s objectives\"%obj\n",
    "    for method in ['DTLZ1','DTLZ2']:\n",
    "        print method\n",
    "        res.append(make_run(method,ref,i))\n",
    "        if res[-][0][0] >  res[-][0][0]:\n",
    "            print \"ACH\"\n",
    "        else:\n",
    "            print \"rNSGAII\"\n",
    "    "
   ]
  },
  {
   "cell_type": "code",
   "execution_count": null,
   "metadata": {
    "collapsed": false
   },
   "outputs": [],
   "source": []
  },
  {
   "cell_type": "code",
   "execution_count": null,
   "metadata": {
    "collapsed": true
   },
   "outputs": [],
   "source": []
  }
 ],
 "metadata": {
  "kernelspec": {
   "display_name": "Python 2",
   "language": "python",
   "name": "python2"
  },
  "language_info": {
   "codemirror_mode": {
    "name": "ipython",
    "version": 2
   },
   "file_extension": ".py",
   "mimetype": "text/x-python",
   "name": "python",
   "nbconvert_exporter": "python",
   "pygments_lexer": "ipython2",
   "version": "2.7.11"
  }
 },
 "nbformat": 4,
 "nbformat_minor": 0
}
